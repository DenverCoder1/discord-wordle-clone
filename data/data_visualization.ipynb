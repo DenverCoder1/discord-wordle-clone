{
 "cells": [
  {
   "cell_type": "code",
   "execution_count": 1,
   "metadata": {
    "collapsed": true
   },
   "outputs": [],
   "source": [
    "import pandas as pd"
   ]
  },
  {
   "cell_type": "code",
   "execution_count": 3,
   "outputs": [
    {
     "data": {
      "text/plain": "         id               identifier  species_id  height  weight  \\\n0         1                bulbasaur           1       7      69   \n1         2                  ivysaur           2      10     130   \n2         3                 venusaur           3      20    1000   \n3         4               charmander           4       6      85   \n4         5               charmeleon           5      11     190   \n...     ...                      ...         ...     ...     ...   \n1274  10267   koraidon-gliding-build        1007      35    3030   \n1275  10268  miraidon-low-power-mode        1008      28    2400   \n1276  10269      miraidon-drive-mode        1008      28    2400   \n1277  10270    miraidon-aquatic-mode        1008      28    2400   \n1278  10271      miraidon-glide-mode        1008      28    2400   \n\n      base_experience  order  is_default  \n0                64.0    1.0        True  \n1               142.0    2.0        True  \n2               263.0    3.0        True  \n3                62.0    5.0        True  \n4               142.0    6.0        True  \n...               ...    ...         ...  \n1274              NaN    NaN       False  \n1275              NaN    NaN       False  \n1276              NaN    NaN       False  \n1277              NaN    NaN       False  \n1278              NaN    NaN       False  \n\n[1279 rows x 8 columns]",
      "text/html": "<div>\n<style scoped>\n    .dataframe tbody tr th:only-of-type {\n        vertical-align: middle;\n    }\n\n    .dataframe tbody tr th {\n        vertical-align: top;\n    }\n\n    .dataframe thead th {\n        text-align: right;\n    }\n</style>\n<table border=\"1\" class=\"dataframe\">\n  <thead>\n    <tr style=\"text-align: right;\">\n      <th></th>\n      <th>id</th>\n      <th>identifier</th>\n      <th>species_id</th>\n      <th>height</th>\n      <th>weight</th>\n      <th>base_experience</th>\n      <th>order</th>\n      <th>is_default</th>\n    </tr>\n  </thead>\n  <tbody>\n    <tr>\n      <th>0</th>\n      <td>1</td>\n      <td>bulbasaur</td>\n      <td>1</td>\n      <td>7</td>\n      <td>69</td>\n      <td>64.0</td>\n      <td>1.0</td>\n      <td>True</td>\n    </tr>\n    <tr>\n      <th>1</th>\n      <td>2</td>\n      <td>ivysaur</td>\n      <td>2</td>\n      <td>10</td>\n      <td>130</td>\n      <td>142.0</td>\n      <td>2.0</td>\n      <td>True</td>\n    </tr>\n    <tr>\n      <th>2</th>\n      <td>3</td>\n      <td>venusaur</td>\n      <td>3</td>\n      <td>20</td>\n      <td>1000</td>\n      <td>263.0</td>\n      <td>3.0</td>\n      <td>True</td>\n    </tr>\n    <tr>\n      <th>3</th>\n      <td>4</td>\n      <td>charmander</td>\n      <td>4</td>\n      <td>6</td>\n      <td>85</td>\n      <td>62.0</td>\n      <td>5.0</td>\n      <td>True</td>\n    </tr>\n    <tr>\n      <th>4</th>\n      <td>5</td>\n      <td>charmeleon</td>\n      <td>5</td>\n      <td>11</td>\n      <td>190</td>\n      <td>142.0</td>\n      <td>6.0</td>\n      <td>True</td>\n    </tr>\n    <tr>\n      <th>...</th>\n      <td>...</td>\n      <td>...</td>\n      <td>...</td>\n      <td>...</td>\n      <td>...</td>\n      <td>...</td>\n      <td>...</td>\n      <td>...</td>\n    </tr>\n    <tr>\n      <th>1274</th>\n      <td>10267</td>\n      <td>koraidon-gliding-build</td>\n      <td>1007</td>\n      <td>35</td>\n      <td>3030</td>\n      <td>NaN</td>\n      <td>NaN</td>\n      <td>False</td>\n    </tr>\n    <tr>\n      <th>1275</th>\n      <td>10268</td>\n      <td>miraidon-low-power-mode</td>\n      <td>1008</td>\n      <td>28</td>\n      <td>2400</td>\n      <td>NaN</td>\n      <td>NaN</td>\n      <td>False</td>\n    </tr>\n    <tr>\n      <th>1276</th>\n      <td>10269</td>\n      <td>miraidon-drive-mode</td>\n      <td>1008</td>\n      <td>28</td>\n      <td>2400</td>\n      <td>NaN</td>\n      <td>NaN</td>\n      <td>False</td>\n    </tr>\n    <tr>\n      <th>1277</th>\n      <td>10270</td>\n      <td>miraidon-aquatic-mode</td>\n      <td>1008</td>\n      <td>28</td>\n      <td>2400</td>\n      <td>NaN</td>\n      <td>NaN</td>\n      <td>False</td>\n    </tr>\n    <tr>\n      <th>1278</th>\n      <td>10271</td>\n      <td>miraidon-glide-mode</td>\n      <td>1008</td>\n      <td>28</td>\n      <td>2400</td>\n      <td>NaN</td>\n      <td>NaN</td>\n      <td>False</td>\n    </tr>\n  </tbody>\n</table>\n<p>1279 rows × 8 columns</p>\n</div>"
     },
     "execution_count": 3,
     "metadata": {},
     "output_type": "execute_result"
    }
   ],
   "source": [
    "pokemon = pd.read_csv('./csv/pokemon.csv')\n",
    "pokemon['is_default'] = pokemon['is_default'].astype(bool)\n",
    "pokemon"
   ],
   "metadata": {
    "collapsed": false
   }
  },
  {
   "cell_type": "code",
   "execution_count": 4,
   "outputs": [
    {
     "data": {
      "text/plain": "      species_id        Name\n6              1   Bulbasaur\n17             2     Ivysaur\n28             3    Venusaur\n39             4  Charmander\n50             5  Charmeleon\n...          ...         ...\n9829         894   Regieleki\n9840         895   Regidrago\n9851         896   Glastrier\n9862         897   Spectrier\n9873         898     Calyrex\n\n[898 rows x 2 columns]",
      "text/html": "<div>\n<style scoped>\n    .dataframe tbody tr th:only-of-type {\n        vertical-align: middle;\n    }\n\n    .dataframe tbody tr th {\n        vertical-align: top;\n    }\n\n    .dataframe thead th {\n        text-align: right;\n    }\n</style>\n<table border=\"1\" class=\"dataframe\">\n  <thead>\n    <tr style=\"text-align: right;\">\n      <th></th>\n      <th>species_id</th>\n      <th>Name</th>\n    </tr>\n  </thead>\n  <tbody>\n    <tr>\n      <th>6</th>\n      <td>1</td>\n      <td>Bulbasaur</td>\n    </tr>\n    <tr>\n      <th>17</th>\n      <td>2</td>\n      <td>Ivysaur</td>\n    </tr>\n    <tr>\n      <th>28</th>\n      <td>3</td>\n      <td>Venusaur</td>\n    </tr>\n    <tr>\n      <th>39</th>\n      <td>4</td>\n      <td>Charmander</td>\n    </tr>\n    <tr>\n      <th>50</th>\n      <td>5</td>\n      <td>Charmeleon</td>\n    </tr>\n    <tr>\n      <th>...</th>\n      <td>...</td>\n      <td>...</td>\n    </tr>\n    <tr>\n      <th>9829</th>\n      <td>894</td>\n      <td>Regieleki</td>\n    </tr>\n    <tr>\n      <th>9840</th>\n      <td>895</td>\n      <td>Regidrago</td>\n    </tr>\n    <tr>\n      <th>9851</th>\n      <td>896</td>\n      <td>Glastrier</td>\n    </tr>\n    <tr>\n      <th>9862</th>\n      <td>897</td>\n      <td>Spectrier</td>\n    </tr>\n    <tr>\n      <th>9873</th>\n      <td>898</td>\n      <td>Calyrex</td>\n    </tr>\n  </tbody>\n</table>\n<p>898 rows × 2 columns</p>\n</div>"
     },
     "execution_count": 4,
     "metadata": {},
     "output_type": "execute_result"
    }
   ],
   "source": [
    "df_species_names = pd.read_csv('csv/pokemon_species_names.csv')\n",
    "spanish = df_species_names['local_language_id'] == 7\n",
    "df_species_names = df_species_names[spanish]\n",
    "df_species_names = df_species_names[['pokemon_species_id', 'name']]\n",
    "df_species_names.rename(columns={'pokemon_species_id': 'species_id', 'name': 'Name'}, inplace=True)\n",
    "df_species_names"
   ],
   "metadata": {
    "collapsed": false
   }
  },
  {
   "cell_type": "code",
   "execution_count": 5,
   "outputs": [
    {
     "data": {
      "text/plain": "         id      identifier  species_id  height  weight  base_experience  \\\n0         1       bulbasaur           1       7      69             64.0   \n1         2         ivysaur           2      10     130            142.0   \n2         3        venusaur           3      20    1000            263.0   \n3     10033   venusaur-mega           3      24    1555            281.0   \n4     10195   venusaur-gmax           3     240   10000            236.0   \n...     ...             ...         ...     ...     ...              ...   \n1144    896       glastrier         896      22    8000            290.0   \n1145    897       spectrier         897      20     445            290.0   \n1146    898         calyrex         898      11      77            250.0   \n1147  10193     calyrex-ice         898      24    8091            340.0   \n1148  10194  calyrex-shadow         898      24     536            340.0   \n\n       order  is_default       Name  \n0        1.0        True  Bulbasaur  \n1        2.0        True    Ivysaur  \n2        3.0        True   Venusaur  \n3        4.0       False   Venusaur  \n4        NaN       False   Venusaur  \n...      ...         ...        ...  \n1144  1088.0        True  Glastrier  \n1145  1089.0        True  Spectrier  \n1146  1090.0        True    Calyrex  \n1147  1091.0       False    Calyrex  \n1148  1092.0       False    Calyrex  \n\n[1149 rows x 9 columns]",
      "text/html": "<div>\n<style scoped>\n    .dataframe tbody tr th:only-of-type {\n        vertical-align: middle;\n    }\n\n    .dataframe tbody tr th {\n        vertical-align: top;\n    }\n\n    .dataframe thead th {\n        text-align: right;\n    }\n</style>\n<table border=\"1\" class=\"dataframe\">\n  <thead>\n    <tr style=\"text-align: right;\">\n      <th></th>\n      <th>id</th>\n      <th>identifier</th>\n      <th>species_id</th>\n      <th>height</th>\n      <th>weight</th>\n      <th>base_experience</th>\n      <th>order</th>\n      <th>is_default</th>\n      <th>Name</th>\n    </tr>\n  </thead>\n  <tbody>\n    <tr>\n      <th>0</th>\n      <td>1</td>\n      <td>bulbasaur</td>\n      <td>1</td>\n      <td>7</td>\n      <td>69</td>\n      <td>64.0</td>\n      <td>1.0</td>\n      <td>True</td>\n      <td>Bulbasaur</td>\n    </tr>\n    <tr>\n      <th>1</th>\n      <td>2</td>\n      <td>ivysaur</td>\n      <td>2</td>\n      <td>10</td>\n      <td>130</td>\n      <td>142.0</td>\n      <td>2.0</td>\n      <td>True</td>\n      <td>Ivysaur</td>\n    </tr>\n    <tr>\n      <th>2</th>\n      <td>3</td>\n      <td>venusaur</td>\n      <td>3</td>\n      <td>20</td>\n      <td>1000</td>\n      <td>263.0</td>\n      <td>3.0</td>\n      <td>True</td>\n      <td>Venusaur</td>\n    </tr>\n    <tr>\n      <th>3</th>\n      <td>10033</td>\n      <td>venusaur-mega</td>\n      <td>3</td>\n      <td>24</td>\n      <td>1555</td>\n      <td>281.0</td>\n      <td>4.0</td>\n      <td>False</td>\n      <td>Venusaur</td>\n    </tr>\n    <tr>\n      <th>4</th>\n      <td>10195</td>\n      <td>venusaur-gmax</td>\n      <td>3</td>\n      <td>240</td>\n      <td>10000</td>\n      <td>236.0</td>\n      <td>NaN</td>\n      <td>False</td>\n      <td>Venusaur</td>\n    </tr>\n    <tr>\n      <th>...</th>\n      <td>...</td>\n      <td>...</td>\n      <td>...</td>\n      <td>...</td>\n      <td>...</td>\n      <td>...</td>\n      <td>...</td>\n      <td>...</td>\n      <td>...</td>\n    </tr>\n    <tr>\n      <th>1144</th>\n      <td>896</td>\n      <td>glastrier</td>\n      <td>896</td>\n      <td>22</td>\n      <td>8000</td>\n      <td>290.0</td>\n      <td>1088.0</td>\n      <td>True</td>\n      <td>Glastrier</td>\n    </tr>\n    <tr>\n      <th>1145</th>\n      <td>897</td>\n      <td>spectrier</td>\n      <td>897</td>\n      <td>20</td>\n      <td>445</td>\n      <td>290.0</td>\n      <td>1089.0</td>\n      <td>True</td>\n      <td>Spectrier</td>\n    </tr>\n    <tr>\n      <th>1146</th>\n      <td>898</td>\n      <td>calyrex</td>\n      <td>898</td>\n      <td>11</td>\n      <td>77</td>\n      <td>250.0</td>\n      <td>1090.0</td>\n      <td>True</td>\n      <td>Calyrex</td>\n    </tr>\n    <tr>\n      <th>1147</th>\n      <td>10193</td>\n      <td>calyrex-ice</td>\n      <td>898</td>\n      <td>24</td>\n      <td>8091</td>\n      <td>340.0</td>\n      <td>1091.0</td>\n      <td>False</td>\n      <td>Calyrex</td>\n    </tr>\n    <tr>\n      <th>1148</th>\n      <td>10194</td>\n      <td>calyrex-shadow</td>\n      <td>898</td>\n      <td>24</td>\n      <td>536</td>\n      <td>340.0</td>\n      <td>1092.0</td>\n      <td>False</td>\n      <td>Calyrex</td>\n    </tr>\n  </tbody>\n</table>\n<p>1149 rows × 9 columns</p>\n</div>"
     },
     "execution_count": 5,
     "metadata": {},
     "output_type": "execute_result"
    }
   ],
   "source": [
    "pd.merge(pokemon, df_species_names, on='species_id')"
   ],
   "metadata": {
    "collapsed": false
   }
  },
  {
   "cell_type": "code",
   "execution_count": null,
   "outputs": [],
   "source": [
    "generations = pd.read_csv('csv/generations.csv')\n",
    "generations"
   ],
   "metadata": {
    "collapsed": false
   }
  },
  {
   "cell_type": "code",
   "execution_count": null,
   "outputs": [],
   "source": [
    "pd.read_csv('csv/pokemon_forms.csv')"
   ],
   "metadata": {
    "collapsed": false
   }
  },
  {
   "cell_type": "code",
   "execution_count": null,
   "outputs": [],
   "source": [
    "df_form_names = pd.read_csv('csv/pokemon_form_names.csv')\n",
    "spanish = df_form_names['local_language_id'] == 9\n",
    "df_form_names[spanish]"
   ],
   "metadata": {
    "collapsed": false
   }
  },
  {
   "cell_type": "code",
   "execution_count": null,
   "outputs": [],
   "source": [
    "pd.read_csv('csv/languages.csv')"
   ],
   "metadata": {
    "collapsed": false
   }
  },
  {
   "cell_type": "code",
   "execution_count": null,
   "outputs": [],
   "source": [],
   "metadata": {
    "collapsed": false
   }
  }
 ],
 "metadata": {
  "kernelspec": {
   "display_name": "Python 3",
   "language": "python",
   "name": "python3"
  },
  "language_info": {
   "codemirror_mode": {
    "name": "ipython",
    "version": 2
   },
   "file_extension": ".py",
   "mimetype": "text/x-python",
   "name": "python",
   "nbconvert_exporter": "python",
   "pygments_lexer": "ipython2",
   "version": "2.7.6"
  }
 },
 "nbformat": 4,
 "nbformat_minor": 0
}
